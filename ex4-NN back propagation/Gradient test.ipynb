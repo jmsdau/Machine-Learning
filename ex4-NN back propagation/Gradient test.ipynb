{
 "cells": [
  {
   "cell_type": "markdown",
   "metadata": {},
   "source": [
    "# 梯度校验（很慢）\n",
    "<img style=\"float: left;\" src=\"../img/gradient_checking.png\">"
   ]
  },
  {
   "cell_type": "code",
   "execution_count": 1,
   "metadata": {},
   "outputs": [],
   "source": [
    "# def expand_array(arr):\n",
    "#     \"\"\"replicate array into matrix\n",
    "#     [1, 2, 3]\n",
    "\n",
    "#     [[1, 2, 3],\n",
    "#      [1, 2, 3],\n",
    "#      [1, 2, 3]]\n",
    "#     \"\"\"\n",
    "#     # turn matrix back to ndarray\n",
    "#     return np.array(np.matrix(np.ones(arr.shape[0])).T @ np.matrix(arr))\n"
   ]
  },
  {
   "cell_type": "code",
   "execution_count": 2,
   "metadata": {},
   "outputs": [],
   "source": [
    "# def a_numeric_grad(plus, minus, epsilon,regularized=False):\n",
    "#     \"\"\"calculate a partial gradient with respect to 1 theta\"\"\"\n",
    "#     if regularized:\n",
    "#         return (regularized_cost(plus, X, y) - regularized_cost(minus, X, y)) / (epsilon * 2)\n",
    "#     else:\n",
    "#         return (cost(plus, X, y) - cost(minus, X, y)) / (epsilon * 2)\n"
   ]
  },
  {
   "cell_type": "code",
   "execution_count": 3,
   "metadata": {},
   "outputs": [],
   "source": [
    "# def gradient_checking(theta, X, y, epsilon, regularized=False):#epsilon即为ε\n",
    "\n",
    "#     theta_matrix = expand_array(theta)  # expand to (10285, 10285)\n",
    "#     epsilon_matrix = np.identity(len(theta)) * epsilon\n",
    "\n",
    "#     plus_matrix = theta_matrix + epsilon_matrix\n",
    "#     minus_matrix = theta_matrix - epsilon_matrix\n",
    "\n",
    "#     # calculate numerical gradient with respect to all theta\n",
    "#     numeric_grad = np.array([a_numeric_grad(plus_matrix[i], minus_matrix[i], epsilon,regularized)\n",
    "#                                     for i in range(len(theta))])\n",
    "\n",
    "#     # analytical grad will depend on if you want it to be regularized or not\n",
    "#     analytic_grad = regularized_gradient(theta, X, y) if regularized else gradient(theta, X, y)\n",
    "\n",
    "#     # If you have a correct implementation, and assuming you used EPSILON = 0.0001\n",
    "#     # the diff below should be less than 1e-9\n",
    "#     # this is how original matlab code do gradient checking\n",
    "#     diff = np.linalg.norm(numeric_grad - analytic_grad) / np.linalg.norm(numeric_grad + analytic_grad)\n",
    "\n",
    "#     print('If your backpropagation implementation is correct,\\nthe relative difference will be smaller than 10e-9 (assume epsilon=0.0001).\\nRelative Difference: {}\\n'.format(diff))\n"
   ]
  },
  {
   "cell_type": "code",
   "execution_count": 4,
   "metadata": {},
   "outputs": [],
   "source": [
    "# #梯度检验，运行很慢，谨慎运行\n",
    "# gradient_checking(theta, X, y, 0.0001,False)#epsilon即为ε"
   ]
  }
 ],
 "metadata": {
  "kernelspec": {
   "display_name": "Python 3",
   "language": "python",
   "name": "python3"
  },
  "language_info": {
   "codemirror_mode": {
    "name": "ipython",
    "version": 3
   },
   "file_extension": ".py",
   "mimetype": "text/x-python",
   "name": "python",
   "nbconvert_exporter": "python",
   "pygments_lexer": "ipython3",
   "version": "3.7.3"
  }
 },
 "nbformat": 4,
 "nbformat_minor": 2
}
